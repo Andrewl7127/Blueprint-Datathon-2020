{
 "cells": [
  {
   "cell_type": "markdown",
   "metadata": {},
   "source": [
    "# Importing Libraries and Reading Data"
   ]
  },
  {
   "cell_type": "code",
   "execution_count": 140,
   "metadata": {},
   "outputs": [],
   "source": [
    "import pandas as pd\n",
    "from sklearn.ensemble import RandomForestRegressor\n",
    "from sklearn.model_selection import train_test_split\n",
    "from sklearn.preprocessing import LabelEncoder\n",
    "from sklearn.model_selection import GridSearchCV\n",
    "from sklearn.model_selection import RandomizedSearchCV\n",
    "from sklearn import metrics\n",
    "from sklearn.metrics import accuracy_score, confusion_matrix\n",
    "import numpy as np"
   ]
  },
  {
   "cell_type": "code",
   "execution_count": 2,
   "metadata": {},
   "outputs": [],
   "source": [
    "def fill_missing(series, limit):\n",
    "    series = series.astype('str')\n",
    "    series = ['0' + i if len(i) < limit else i for i in series]\n",
    "    return series"
   ]
  },
  {
   "cell_type": "code",
   "execution_count": 52,
   "metadata": {},
   "outputs": [],
   "source": [
    "df1 = pd.read_csv('https://blueprintdata2020.s3-us-west-1.amazonaws.com/DataSet1.csv')\n",
    "df1['county'] = fill_missing(df1['county'], 5)\n",
    "df1['state'] = fill_missing(df1['state'], 2)\n",
    "df3 = pd.read_csv('https://blueprintdata2020.s3-us-west-1.amazonaws.com/DataSet3.csv')\n",
    "df4 = pd.read_csv('https://blueprintdata2020.s3-us-west-1.amazonaws.com/DataSet4.csv')\n",
    "df4['state_code'] = fill_missing(df4['state_code'], 2)\n",
    "df5 = pd.read_csv('https://blueprintdata2020.s3-us-west-1.amazonaws.com/DataSet5old.csv')\n",
    "df5['state'] = fill_missing(df5['state'], 2)\n",
    "strictness = pd.read_csv('https://blueprintdata2020.s3-us-west-1.amazonaws.com/state_strictness.csv')\n",
    "population = pd.read_csv('https://blueprintdata2020.s3-us-west-1.amazonaws.com/population.csv')\n",
    "population = population.drop(33, axis = 0)\n",
    "population['state_code'] = fill_missing(population['state_code'].astype('int'), 2)\n",
    "wba = pd.read_csv('https://blueprintdata2020.s3-us-west-1.amazonaws.com/white_black_asian.csv')\n",
    "wba['fibs'] = fill_missing(wba['fibs'].astype('int64'), 12)\n",
    "marital = pd.read_csv('https://blueprintdata2020.s3-us-west-1.amazonaws.com/marital_status.csv')\n",
    "marital['fibs'] = fill_missing(marital['fibs'].astype('int64'), 12)"
   ]
  },
  {
   "cell_type": "markdown",
   "metadata": {},
   "source": [
    "# Data Cleaning and Preprocessing"
   ]
  },
  {
   "cell_type": "code",
   "execution_count": 53,
   "metadata": {},
   "outputs": [
    {
     "data": {
      "text/html": [
       "<div>\n",
       "<style scoped>\n",
       "    .dataframe tbody tr th:only-of-type {\n",
       "        vertical-align: middle;\n",
       "    }\n",
       "\n",
       "    .dataframe tbody tr th {\n",
       "        vertical-align: top;\n",
       "    }\n",
       "\n",
       "    .dataframe thead th {\n",
       "        text-align: right;\n",
       "    }\n",
       "</style>\n",
       "<table border=\"1\" class=\"dataframe\">\n",
       "  <thead>\n",
       "    <tr style=\"text-align: right;\">\n",
       "      <th></th>\n",
       "      <th>fibs</th>\n",
       "      <th>white</th>\n",
       "      <th>black</th>\n",
       "      <th>asian</th>\n",
       "      <th>single</th>\n",
       "      <th>married</th>\n",
       "    </tr>\n",
       "  </thead>\n",
       "  <tbody>\n",
       "    <tr>\n",
       "      <th>0</th>\n",
       "      <td>01</td>\n",
       "      <td>3400118</td>\n",
       "      <td>1320276</td>\n",
       "      <td>77731</td>\n",
       "      <td>1119862</td>\n",
       "      <td>1976820</td>\n",
       "    </tr>\n",
       "    <tr>\n",
       "      <th>1</th>\n",
       "      <td>02</td>\n",
       "      <td>538969</td>\n",
       "      <td>37800</td>\n",
       "      <td>58279</td>\n",
       "      <td>163298</td>\n",
       "      <td>290469</td>\n",
       "    </tr>\n",
       "    <tr>\n",
       "      <th>2</th>\n",
       "      <td>04</td>\n",
       "      <td>5424677</td>\n",
       "      <td>358764</td>\n",
       "      <td>268095</td>\n",
       "      <td>1601160</td>\n",
       "      <td>2639451</td>\n",
       "    </tr>\n",
       "    <tr>\n",
       "      <th>3</th>\n",
       "      <td>05</td>\n",
       "      <td>2367649</td>\n",
       "      <td>484170</td>\n",
       "      <td>51277</td>\n",
       "      <td>597296</td>\n",
       "      <td>1248745</td>\n",
       "    </tr>\n",
       "    <tr>\n",
       "      <th>4</th>\n",
       "      <td>06</td>\n",
       "      <td>25159975</td>\n",
       "      <td>2723286</td>\n",
       "      <td>6122435</td>\n",
       "      <td>10443182</td>\n",
       "      <td>15163543</td>\n",
       "    </tr>\n",
       "  </tbody>\n",
       "</table>\n",
       "</div>"
      ],
      "text/plain": [
       "  fibs     white    black    asian    single   married\n",
       "0   01   3400118  1320276    77731   1119862   1976820\n",
       "1   02    538969    37800    58279    163298    290469\n",
       "2   04   5424677   358764   268095   1601160   2639451\n",
       "3   05   2367649   484170    51277    597296   1248745\n",
       "4   06  25159975  2723286  6122435  10443182  15163543"
      ]
     },
     "execution_count": 53,
     "metadata": {},
     "output_type": "execute_result"
    }
   ],
   "source": [
    "wba['fibs'] = [str(i)[0:2] for i in wba['fibs']]\n",
    "wba = wba[['fibs', 'white', 'black', 'asian']].groupby('fibs').agg('sum')\n",
    "wba = wba.reset_index()\n",
    "marital['fibs'] = [str(i)[0:2] for i in marital['fibs']]\n",
    "marital = marital[['fibs', 'single', 'married']].groupby('fibs').agg('sum')\n",
    "marital = marital.reset_index()\n",
    "demographics = wba.merge(marital, left_on = 'fibs', right_on = 'fibs', how = 'inner')\n",
    "demographics.head()"
   ]
  },
  {
   "cell_type": "code",
   "execution_count": 54,
   "metadata": {},
   "outputs": [
    {
     "data": {
      "text/html": [
       "<div>\n",
       "<style scoped>\n",
       "    .dataframe tbody tr th:only-of-type {\n",
       "        vertical-align: middle;\n",
       "    }\n",
       "\n",
       "    .dataframe tbody tr th {\n",
       "        vertical-align: top;\n",
       "    }\n",
       "\n",
       "    .dataframe thead th {\n",
       "        text-align: right;\n",
       "    }\n",
       "</style>\n",
       "<table border=\"1\" class=\"dataframe\">\n",
       "  <thead>\n",
       "    <tr style=\"text-align: right;\">\n",
       "      <th></th>\n",
       "      <th>state</th>\n",
       "      <th>cases_y</th>\n",
       "      <th>state_code</th>\n",
       "      <th>Pop</th>\n",
       "      <th>per_capita</th>\n",
       "    </tr>\n",
       "  </thead>\n",
       "  <tbody>\n",
       "    <tr>\n",
       "      <th>0</th>\n",
       "      <td>01</td>\n",
       "      <td>177064</td>\n",
       "      <td>01</td>\n",
       "      <td>4908620</td>\n",
       "      <td>3607.205284</td>\n",
       "    </tr>\n",
       "    <tr>\n",
       "      <th>1</th>\n",
       "      <td>02</td>\n",
       "      <td>12790</td>\n",
       "      <td>02</td>\n",
       "      <td>734002</td>\n",
       "      <td>1742.502064</td>\n",
       "    </tr>\n",
       "    <tr>\n",
       "      <th>2</th>\n",
       "      <td>04</td>\n",
       "      <td>234914</td>\n",
       "      <td>04</td>\n",
       "      <td>7378490</td>\n",
       "      <td>3183.767953</td>\n",
       "    </tr>\n",
       "    <tr>\n",
       "      <th>3</th>\n",
       "      <td>05</td>\n",
       "      <td>102798</td>\n",
       "      <td>05</td>\n",
       "      <td>3039000</td>\n",
       "      <td>3382.625864</td>\n",
       "    </tr>\n",
       "    <tr>\n",
       "      <th>4</th>\n",
       "      <td>06</td>\n",
       "      <td>896424</td>\n",
       "      <td>06</td>\n",
       "      <td>39937500</td>\n",
       "      <td>2244.567136</td>\n",
       "    </tr>\n",
       "  </tbody>\n",
       "</table>\n",
       "</div>"
      ],
      "text/plain": [
       "  state  cases_y state_code       Pop   per_capita\n",
       "0    01   177064         01   4908620  3607.205284\n",
       "1    02    12790         02    734002  1742.502064\n",
       "2    04   234914         04   7378490  3183.767953\n",
       "3    05   102798         05   3039000  3382.625864\n",
       "4    06   896424         06  39937500  2244.567136"
      ]
     },
     "execution_count": 54,
     "metadata": {},
     "output_type": "execute_result"
    }
   ],
   "source": [
    "df5 = df5.drop_duplicates('state', keep = 'last')\n",
    "df5 = df5[['state', 'cases_y']].merge(population[['state_code', 'Pop']], left_on = 'state', right_on = 'state_code', how = 'inner')\n",
    "df5['per_capita'] = [df5.at[i, 'cases_y'] * 100000 / df5.at[i, 'Pop'] for i in range(len(df5))]\n",
    "df5.head()"
   ]
  },
  {
   "cell_type": "code",
   "execution_count": 57,
   "metadata": {},
   "outputs": [
    {
     "data": {
      "text/html": [
       "<div>\n",
       "<style scoped>\n",
       "    .dataframe tbody tr th:only-of-type {\n",
       "        vertical-align: middle;\n",
       "    }\n",
       "\n",
       "    .dataframe tbody tr th {\n",
       "        vertical-align: top;\n",
       "    }\n",
       "\n",
       "    .dataframe thead th {\n",
       "        text-align: right;\n",
       "    }\n",
       "</style>\n",
       "<table border=\"1\" class=\"dataframe\">\n",
       "  <thead>\n",
       "    <tr style=\"text-align: right;\">\n",
       "      <th></th>\n",
       "      <th>Status of Reopening</th>\n",
       "      <th>Stay at Home Order</th>\n",
       "      <th>Mandatory Quarantine for Travelers</th>\n",
       "      <th>Non-Essential Business Closures</th>\n",
       "      <th>Large Gatherings Ban</th>\n",
       "      <th>Restaurant Limits</th>\n",
       "      <th>Bar Closures</th>\n",
       "      <th>Face Covering Requirement</th>\n",
       "      <th>Emergency Declaration</th>\n",
       "      <th>white</th>\n",
       "      <th>black</th>\n",
       "      <th>asian</th>\n",
       "      <th>single</th>\n",
       "      <th>married</th>\n",
       "    </tr>\n",
       "  </thead>\n",
       "  <tbody>\n",
       "    <tr>\n",
       "      <th>0</th>\n",
       "      <td>1</td>\n",
       "      <td>1</td>\n",
       "      <td>0</td>\n",
       "      <td>2</td>\n",
       "      <td>4</td>\n",
       "      <td>2</td>\n",
       "      <td>3</td>\n",
       "      <td>4</td>\n",
       "      <td>0</td>\n",
       "      <td>0.692683</td>\n",
       "      <td>0.268971</td>\n",
       "      <td>0.015836</td>\n",
       "      <td>0.228142</td>\n",
       "      <td>0.402724</td>\n",
       "    </tr>\n",
       "    <tr>\n",
       "      <th>1</th>\n",
       "      <td>2</td>\n",
       "      <td>1</td>\n",
       "      <td>1</td>\n",
       "      <td>1</td>\n",
       "      <td>4</td>\n",
       "      <td>2</td>\n",
       "      <td>3</td>\n",
       "      <td>2</td>\n",
       "      <td>0</td>\n",
       "      <td>0.734288</td>\n",
       "      <td>0.051498</td>\n",
       "      <td>0.079399</td>\n",
       "      <td>0.222476</td>\n",
       "      <td>0.395733</td>\n",
       "    </tr>\n",
       "    <tr>\n",
       "      <th>2</th>\n",
       "      <td>0</td>\n",
       "      <td>1</td>\n",
       "      <td>4</td>\n",
       "      <td>3</td>\n",
       "      <td>5</td>\n",
       "      <td>1</td>\n",
       "      <td>2</td>\n",
       "      <td>3</td>\n",
       "      <td>0</td>\n",
       "      <td>0.735202</td>\n",
       "      <td>0.048623</td>\n",
       "      <td>0.036335</td>\n",
       "      <td>0.217004</td>\n",
       "      <td>0.357722</td>\n",
       "    </tr>\n",
       "    <tr>\n",
       "      <th>3</th>\n",
       "      <td>1</td>\n",
       "      <td>0</td>\n",
       "      <td>4</td>\n",
       "      <td>0</td>\n",
       "      <td>4</td>\n",
       "      <td>3</td>\n",
       "      <td>3</td>\n",
       "      <td>4</td>\n",
       "      <td>0</td>\n",
       "      <td>0.779088</td>\n",
       "      <td>0.159319</td>\n",
       "      <td>0.016873</td>\n",
       "      <td>0.196544</td>\n",
       "      <td>0.410907</td>\n",
       "    </tr>\n",
       "    <tr>\n",
       "      <th>4</th>\n",
       "      <td>2</td>\n",
       "      <td>3</td>\n",
       "      <td>0</td>\n",
       "      <td>3</td>\n",
       "      <td>1</td>\n",
       "      <td>3</td>\n",
       "      <td>2</td>\n",
       "      <td>4</td>\n",
       "      <td>0</td>\n",
       "      <td>0.629984</td>\n",
       "      <td>0.068189</td>\n",
       "      <td>0.153300</td>\n",
       "      <td>0.261488</td>\n",
       "      <td>0.379682</td>\n",
       "    </tr>\n",
       "  </tbody>\n",
       "</table>\n",
       "</div>"
      ],
      "text/plain": [
       "   Status of Reopening  Stay at Home Order  \\\n",
       "0                    1                   1   \n",
       "1                    2                   1   \n",
       "2                    0                   1   \n",
       "3                    1                   0   \n",
       "4                    2                   3   \n",
       "\n",
       "   Mandatory Quarantine for Travelers  Non-Essential Business Closures  \\\n",
       "0                                   0                                2   \n",
       "1                                   1                                1   \n",
       "2                                   4                                3   \n",
       "3                                   4                                0   \n",
       "4                                   0                                3   \n",
       "\n",
       "   Large Gatherings Ban  Restaurant Limits  Bar Closures  \\\n",
       "0                     4                  2             3   \n",
       "1                     4                  2             3   \n",
       "2                     5                  1             2   \n",
       "3                     4                  3             3   \n",
       "4                     1                  3             2   \n",
       "\n",
       "   Face Covering Requirement  Emergency Declaration     white     black  \\\n",
       "0                          4                      0  0.692683  0.268971   \n",
       "1                          2                      0  0.734288  0.051498   \n",
       "2                          3                      0  0.735202  0.048623   \n",
       "3                          4                      0  0.779088  0.159319   \n",
       "4                          4                      0  0.629984  0.068189   \n",
       "\n",
       "      asian    single   married  \n",
       "0  0.015836  0.228142  0.402724  \n",
       "1  0.079399  0.222476  0.395733  \n",
       "2  0.036335  0.217004  0.357722  \n",
       "3  0.016873  0.196544  0.410907  \n",
       "4  0.153300  0.261488  0.379682  "
      ]
     },
     "execution_count": 57,
     "metadata": {},
     "output_type": "execute_result"
    }
   ],
   "source": [
    "df4 = df4[list(df4.columns[0:10]) + ['state_code']]\n",
    "train = df5.merge(df4, left_on = 'state_code', right_on = 'state_code', how = \"inner\")\n",
    "test = train['per_capita']\n",
    "state = train['state']\n",
    "pop = train['Pop']\n",
    "train = train.drop(['state', 'cases_y', 'state_code', 'Pop', 'Location', 'per_capita'], axis = 1)\n",
    "train = train.apply(LabelEncoder().fit_transform)\n",
    "train['state'] = state\n",
    "train['Pop'] = pop\n",
    "train = train.merge(demographics, left_on = 'state', right_on = 'fibs', how = 'inner')\n",
    "train['white'] = [train.at[i, 'white'] / train.at[i, 'Pop'] for i in range(len(train))]\n",
    "train['black'] = [train.at[i, 'black'] / train.at[i, 'Pop'] for i in range(len(train))]\n",
    "train['asian'] = [train.at[i, 'asian'] / train.at[i, 'Pop'] for i in range(len(train))]\n",
    "train['single'] = [train.at[i, 'single'] / train.at[i, 'Pop'] for i in range(len(train))]\n",
    "train['married'] = [train.at[i, 'married'] / train.at[i, 'Pop'] for i in range(len(train))]\n",
    "train = train.drop(['state', 'fibs', 'Pop'], axis = 1)\n",
    "train.head()"
   ]
  },
  {
   "cell_type": "code",
   "execution_count": 58,
   "metadata": {},
   "outputs": [
    {
     "data": {
      "text/plain": [
       "False"
      ]
     },
     "execution_count": 58,
     "metadata": {},
     "output_type": "execute_result"
    }
   ],
   "source": [
    "train.isnull().values.any()"
   ]
  },
  {
   "cell_type": "code",
   "execution_count": 59,
   "metadata": {},
   "outputs": [
    {
     "data": {
      "text/plain": [
       "False"
      ]
     },
     "execution_count": 59,
     "metadata": {},
     "output_type": "execute_result"
    }
   ],
   "source": [
    "test.isnull().values.any()"
   ]
  },
  {
   "cell_type": "code",
   "execution_count": 85,
   "metadata": {},
   "outputs": [],
   "source": [
    "def evaluate(rf):\n",
    "    predictions = rf.predict(test_features)\n",
    "    print('Mean Absolute Error (MAE):', metrics.mean_absolute_error(test_labels, predictions))\n",
    "    print('Mean Squared Error (MSE):', metrics.mean_squared_error(test_labels, predictions))\n",
    "    print('Root Mean Squared Error (RMSE):', np.sqrt(metrics.mean_squared_error(test_labels, predictions)))\n",
    "    mape = np.mean(np.abs((test_labels - predictions) / np.abs(test_labels)))\n",
    "    print('Mean Absolute Percentage Error (MAPE):', round(mape * 100, 2))\n",
    "    print('Accuracy:', round(100*(1 - mape), 2))"
   ]
  },
  {
   "cell_type": "code",
   "execution_count": 122,
   "metadata": {},
   "outputs": [],
   "source": [
    "train_features, test_features, train_labels, test_labels = train_test_split(train, test, test_size = 0.25, random_state = 42)"
   ]
  },
  {
   "cell_type": "markdown",
   "metadata": {},
   "source": [
    "# Modeling and Hyperparameter Tuning"
   ]
  },
  {
   "cell_type": "markdown",
   "metadata": {},
   "source": [
    "Random Forest was used because it works well with nonlinear data, is robust to outliers, is resistant to overfitting, and handles various forms of data well."
   ]
  },
  {
   "cell_type": "code",
   "execution_count": 126,
   "metadata": {},
   "outputs": [
    {
     "name": "stdout",
     "output_type": "stream",
     "text": [
      "Mean Absolute Error (MAE): 535.4272493810832\n",
      "Mean Squared Error (MSE): 393605.3500263353\n",
      "Root Mean Squared Error (RMSE): 627.379749455093\n",
      "Mean Absolute Percentage Error (MAPE): 18.89\n",
      "Accuracy: 81.11\n"
     ]
    }
   ],
   "source": [
    "rf = RandomForestRegressor(random_state = 42)\n",
    "default = rf.fit(train_features, train_labels)\n",
    "\n",
    "evaluate(default)"
   ]
  },
  {
   "cell_type": "code",
   "execution_count": 125,
   "metadata": {},
   "outputs": [
    {
     "name": "stdout",
     "output_type": "stream",
     "text": [
      "Fitting 5 folds for each of 500 candidates, totalling 2500 fits\n"
     ]
    },
    {
     "name": "stderr",
     "output_type": "stream",
     "text": [
      "[Parallel(n_jobs=-1)]: Using backend LokyBackend with 12 concurrent workers.\n",
      "[Parallel(n_jobs=-1)]: Done  17 tasks      | elapsed:    5.9s\n",
      "[Parallel(n_jobs=-1)]: Done 138 tasks      | elapsed:   27.0s\n",
      "[Parallel(n_jobs=-1)]: Done 341 tasks      | elapsed:  1.1min\n",
      "[Parallel(n_jobs=-1)]: Done 624 tasks      | elapsed:  1.9min\n",
      "[Parallel(n_jobs=-1)]: Done 989 tasks      | elapsed:  3.1min\n",
      "[Parallel(n_jobs=-1)]: Done 1434 tasks      | elapsed:  4.4min\n",
      "[Parallel(n_jobs=-1)]: Done 1961 tasks      | elapsed:  6.0min\n"
     ]
    },
    {
     "name": "stdout",
     "output_type": "stream",
     "text": [
      "Mean Absolute Error (MAE): 550.8440170761686\n",
      "Mean Squared Error (MSE): 449979.84480843885\n",
      "Root Mean Squared Error (RMSE): 670.8053702889079\n",
      "Mean Absolute Percentage Error (MAPE): 19.39\n",
      "Accuracy: 80.61\n"
     ]
    },
    {
     "name": "stderr",
     "output_type": "stream",
     "text": [
      "[Parallel(n_jobs=-1)]: Done 2500 out of 2500 | elapsed:  7.6min finished\n"
     ]
    }
   ],
   "source": [
    "n_estimators = [int(x) for x in np.linspace(start = 200, stop = 2000, num = 10)]\n",
    "n_estimators.append(100)\n",
    "max_features = ['auto', 'sqrt']\n",
    "max_depth = [int(x) for x in np.linspace(10, 110, num = 11)]\n",
    "max_depth.append(None)\n",
    "min_samples_split = [2, 5, 10]\n",
    "min_samples_leaf = [1, 2, 4]\n",
    "\n",
    "random_grid = {\n",
    "    'n_estimators': n_estimators,\n",
    "    'max_features': max_features,\n",
    "    'max_depth': max_depth,\n",
    "    'min_samples_split': min_samples_split,\n",
    "    'min_samples_leaf': min_samples_leaf,\n",
    "}\n",
    "\n",
    "rf = RandomForestRegressor()\n",
    "rf_random = RandomizedSearchCV(estimator = rf, param_distributions = random_grid, n_iter = 500, cv = 5, verbose = 2, random_state=42, n_jobs = -1)\n",
    "rf_random.fit(train_features, train_labels)\n",
    "best_random = rf_random.best_estimator_\n",
    "evaluate(best_random)"
   ]
  },
  {
   "cell_type": "code",
   "execution_count": 127,
   "metadata": {},
   "outputs": [
    {
     "data": {
      "text/plain": [
       "{'n_estimators': 100,\n",
       " 'min_samples_split': 5,\n",
       " 'min_samples_leaf': 2,\n",
       " 'max_features': 'sqrt',\n",
       " 'max_depth': 100}"
      ]
     },
     "execution_count": 127,
     "metadata": {},
     "output_type": "execute_result"
    }
   ],
   "source": [
    "rf_random.best_params_"
   ]
  },
  {
   "cell_type": "code",
   "execution_count": 129,
   "metadata": {},
   "outputs": [
    {
     "name": "stdout",
     "output_type": "stream",
     "text": [
      "Fitting 5 folds for each of 360 candidates, totalling 1800 fits\n"
     ]
    },
    {
     "name": "stderr",
     "output_type": "stream",
     "text": [
      "[Parallel(n_jobs=-1)]: Using backend LokyBackend with 12 concurrent workers.\n",
      "[Parallel(n_jobs=-1)]: Done  17 tasks      | elapsed:    2.5s\n",
      "[Parallel(n_jobs=-1)]: Done 138 tasks      | elapsed:   11.0s\n",
      "[Parallel(n_jobs=-1)]: Done 341 tasks      | elapsed:   25.4s\n",
      "[Parallel(n_jobs=-1)]: Done 624 tasks      | elapsed:   46.2s\n",
      "[Parallel(n_jobs=-1)]: Done 989 tasks      | elapsed:  1.2min\n",
      "[Parallel(n_jobs=-1)]: Done 1434 tasks      | elapsed:  1.8min\n"
     ]
    },
    {
     "name": "stdout",
     "output_type": "stream",
     "text": [
      "Mean Absolute Error (MAE): 589.7500553147695\n",
      "Mean Squared Error (MSE): 500146.15179868223\n",
      "Root Mean Squared Error (RMSE): 707.2101185635584\n",
      "Mean Absolute Percentage Error (MAPE): 20.68\n",
      "Accuracy: 79.32\n"
     ]
    },
    {
     "name": "stderr",
     "output_type": "stream",
     "text": [
      "[Parallel(n_jobs=-1)]: Done 1800 out of 1800 | elapsed:  2.2min finished\n"
     ]
    }
   ],
   "source": [
    "param_grid = {\n",
    "    'max_depth': [10, 30, 50, 70, 90],\n",
    "    'max_features': ['auto', 'sqrt'],\n",
    "    'min_samples_leaf': [3, 4, 5],\n",
    "    'min_samples_split': [8, 10, 12],\n",
    "    'n_estimators': [100, 200, 300, 1000]\n",
    "}\n",
    "\n",
    "rf = RandomForestRegressor()\n",
    "grid_search = GridSearchCV(estimator = rf, param_grid = param_grid, cv = 5, verbose = 2, n_jobs = -1)\n",
    "grid_search.fit(train_features, train_labels)\n",
    "best_grid = grid_search.best_estimator_\n",
    "evaluate(best_grid)"
   ]
  },
  {
   "cell_type": "code",
   "execution_count": 130,
   "metadata": {},
   "outputs": [
    {
     "data": {
      "text/plain": [
       "{'max_depth': 50,\n",
       " 'max_features': 'sqrt',\n",
       " 'min_samples_leaf': 3,\n",
       " 'min_samples_split': 8,\n",
       " 'n_estimators': 100}"
      ]
     },
     "execution_count": 130,
     "metadata": {},
     "output_type": "execute_result"
    }
   ],
   "source": [
    "grid_search.best_params_"
   ]
  },
  {
   "cell_type": "markdown",
   "metadata": {},
   "source": [
    "# Feature Importance"
   ]
  },
  {
   "cell_type": "code",
   "execution_count": 131,
   "metadata": {},
   "outputs": [
    {
     "data": {
      "text/plain": [
       "<matplotlib.axes._subplots.AxesSubplot at 0x1b7213be3c8>"
      ]
     },
     "execution_count": 131,
     "metadata": {},
     "output_type": "execute_result"
    },
    {
     "data": {
      "image/png": "[encoded data removed]",
      "text/plain": [
       "<Figure size 432x288 with 1 Axes>"
      ]
     },
     "metadata": {
      "needs_background": "light"
     },
     "output_type": "display_data"
    }
   ],
   "source": [
    "feat_importances = pd.Series(default.feature_importances_, index=train.columns)\n",
    "feat_importances.sort_values().plot(kind='barh')"
   ]
  },
  {
   "cell_type": "code",
   "execution_count": 135,
   "metadata": {},
   "outputs": [
    {
     "data": {
      "text/plain": [
       "<matplotlib.axes._subplots.AxesSubplot at 0x1b722044bc8>"
      ]
     },
     "execution_count": 135,
     "metadata": {},
     "output_type": "execute_result"
    },
    {
     "data": {
      "image/png": "[encoded data removed]",
      "text/plain": [
       "<Figure size 1440x720 with 1 Axes>"
      ]
     },
     "metadata": {
      "needs_background": "light"
     },
     "output_type": "display_data"
    }
   ],
   "source": [
    "feat_importances.nlargest(len(feat_importances)).plot(kind='line', figsize = (20, 10))"
   ]
  },
  {
   "cell_type": "code",
   "execution_count": 136,
   "metadata": {},
   "outputs": [
    {
     "data": {
      "text/plain": [
       "<matplotlib.axes._subplots.AxesSubplot at 0x1b7227f9108>"
      ]
     },
     "execution_count": 136,
     "metadata": {},
     "output_type": "execute_result"
    },
    {
     "data": {
      "image/png": "[encoded data removed]",
      "text/plain": [
       "<Figure size 432x288 with 1 Axes>"
      ]
     },
     "metadata": {
      "needs_background": "light"
     },
     "output_type": "display_data"
    }
   ],
   "source": [
    "feat_importances = pd.Series(best_random.feature_importances_, index=train.columns)\n",
    "feat_importances.sort_values().plot(kind='barh')"
   ]
  },
  {
   "cell_type": "code",
   "execution_count": 137,
   "metadata": {},
   "outputs": [
    {
     "data": {
      "text/plain": [
       "<matplotlib.axes._subplots.AxesSubplot at 0x1b7279c1b88>"
      ]
     },
     "execution_count": 137,
     "metadata": {},
     "output_type": "execute_result"
    },
    {
     "data": {
      "image/png": "[encoded data removed]",
      "text/plain": [
       "<Figure size 1440x720 with 1 Axes>"
      ]
     },
     "metadata": {
      "needs_background": "light"
     },
     "output_type": "display_data"
    }
   ],
   "source": [
    "feat_importances.nlargest(len(feat_importances)).plot(kind='line', figsize = (20, 10))"
   ]
  },
  {
   "cell_type": "code",
   "execution_count": 138,
   "metadata": {},
   "outputs": [
    {
     "data": {
      "text/plain": [
       "<matplotlib.axes._subplots.AxesSubplot at 0x1b7264b5648>"
      ]
     },
     "execution_count": 138,
     "metadata": {},
     "output_type": "execute_result"
    },
    {
     "data": {
      "image/png": "[encoded data removed]",
      "text/plain": [
       "<Figure size 432x288 with 1 Axes>"
      ]
     },
     "metadata": {
      "needs_background": "light"
     },
     "output_type": "display_data"
    }
   ],
   "source": [
    "feat_importances = pd.Series(best_grid.feature_importances_, index=train.columns)\n",
    "feat_importances.sort_values().plot(kind='barh')"
   ]
  },
  {
   "cell_type": "code",
   "execution_count": 139,
   "metadata": {},
   "outputs": [
    {
     "data": {
      "text/plain": [
       "<matplotlib.axes._subplots.AxesSubplot at 0x1b7260b6a48>"
      ]
     },
     "execution_count": 139,
     "metadata": {},
     "output_type": "execute_result"
    },
    {
     "data": {
      "image/png": "[encoded data removed]",
      "text/plain": [
       "<Figure size 1440x720 with 1 Axes>"
      ]
     },
     "metadata": {
      "needs_background": "light"
     },
     "output_type": "display_data"
    }
   ],
   "source": [
    "feat_importances.nlargest(len(feat_importances)).plot(kind='line', figsize = (20, 10))"
   ]
  }
 ],
 "metadata": {
  "kernelspec": {
   "display_name": "Python 3",
   "language": "python",
   "name": "python3"
  },
  "language_info": {
   "codemirror_mode": {
    "name": "ipython",
    "version": 3
   },
   "file_extension": ".py",
   "mimetype": "text/x-python",
   "name": "python",
   "nbconvert_exporter": "python",
   "pygments_lexer": "ipython3",
   "version": "3.7.6"
  }
 },
 "nbformat": 4,
 "nbformat_minor": 4
}
